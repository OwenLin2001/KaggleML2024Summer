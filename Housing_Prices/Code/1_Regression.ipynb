{
 "cells": [
  {
   "cell_type": "code",
   "execution_count": 18,
   "metadata": {},
   "outputs": [],
   "source": [
    "import pandas as pd\n",
    "from sklearn.model_selection import train_test_split\n",
    "from sklearn.linear_model import LinearRegression\n",
    "from sklearn.metrics import mean_absolute_error\n",
    "import os"
   ]
  },
  {
   "cell_type": "markdown",
   "metadata": {},
   "source": [
    "### Load the Data"
   ]
  },
  {
   "cell_type": "code",
   "execution_count": 46,
   "metadata": {},
   "outputs": [],
   "source": [
    "#relative path\n",
    "current_dir = os.getcwd()\n",
    "parent_dir = os.path.dirname(current_dir)\n",
    "data_path = os.path.join(parent_dir, 'Data', 'train_clean.csv')\n",
    "test_path = os.path.join(parent_dir, 'Data', 'test_clean.csv')\n",
    "\n",
    "# Load data and test data\n",
    "data = pd.read_csv(data_path, index_col = 0)\n",
    "test = pd.read_csv(test_path, index_col = 0)\n",
    "\n",
    "# Separate data into X and Y\n",
    "y = data.SalePrice\n",
    "X = data.drop(\"SalePrice\", axis = 1)\n",
    "\n",
    "# Split the data into training and validation set\n",
    "train_X, val_X, train_y, val_y = train_test_split(X, y, test_size = 0.2, random_state=2024)"
   ]
  },
  {
   "cell_type": "markdown",
   "metadata": {},
   "source": [
    "### Preprocess (Imputation)"
   ]
  },
  {
   "cell_type": "code",
   "execution_count": 54,
   "metadata": {},
   "outputs": [],
   "source": [
    "# Preprocessing\n",
    "from sklearn.impute import SimpleImputer\n",
    "SimImputer = SimpleImputer(strategy=\"constant\", fill_value=0)\n",
    "\n",
    "# Impute with average value in each columns\n",
    "train_X_final = pd.DataFrame(SimImputer.fit_transform(train_X))\n",
    "val_X_final = pd.DataFrame(SimImputer.fit_transform(val_X))\n",
    "\n",
    "# Put back column names\n",
    "train_X_final.columns = train_X.columns\n",
    "val_X_final.columns = val_X.columns"
   ]
  },
  {
   "cell_type": "markdown",
   "metadata": {},
   "source": [
    "### Linear Regression"
   ]
  },
  {
   "cell_type": "code",
   "execution_count": 55,
   "metadata": {},
   "outputs": [
    {
     "name": "stdout",
     "output_type": "stream",
     "text": [
      "mse: 21254.789757601447\n"
     ]
    }
   ],
   "source": [
    "# Create a Linear Regression model\n",
    "model = LinearRegression()\n",
    "\n",
    "# Fit the model on the training data\n",
    "model.fit(train_X_final, train_y)\n",
    "\n",
    "# Make predictions on the testing data\n",
    "y_pred = model.predict(val_X_final)\n",
    "\n",
    "# Evaluate the model\n",
    "mse = mean_absolute_error(val_y, y_pred)\n",
    "print(f\"mse: {mse}\")"
   ]
  },
  {
   "cell_type": "markdown",
   "metadata": {},
   "source": [
    "### Generate Test Prediction"
   ]
  },
  {
   "cell_type": "code",
   "execution_count": 56,
   "metadata": {},
   "outputs": [],
   "source": [
    "# Test set imputation\n",
    "# Impute with average value in each columns\n",
    "test_final = pd.DataFrame(SimImputer.fit_transform(test))\n",
    "\n",
    "# Put back column names\n",
    "test_final.columns = test.columns"
   ]
  },
  {
   "cell_type": "code",
   "execution_count": 57,
   "metadata": {},
   "outputs": [],
   "source": [
    "test_pred = model.predict(test_final)\n",
    "\n",
    "output = pd.DataFrame({'Id': test.index,\n",
    "                       'SalePrice': test_pred})\n",
    "output.to_csv('submission.csv', index=False)"
   ]
  },
  {
   "cell_type": "code",
   "execution_count": null,
   "metadata": {},
   "outputs": [],
   "source": []
  }
 ],
 "metadata": {
  "kernelspec": {
   "display_name": "Python 3",
   "language": "python",
   "name": "python3"
  },
  "language_info": {
   "codemirror_mode": {
    "name": "ipython",
    "version": 3
   },
   "file_extension": ".py",
   "mimetype": "text/x-python",
   "name": "python",
   "nbconvert_exporter": "python",
   "pygments_lexer": "ipython3",
   "version": "3.12.4"
  }
 },
 "nbformat": 4,
 "nbformat_minor": 2
}
