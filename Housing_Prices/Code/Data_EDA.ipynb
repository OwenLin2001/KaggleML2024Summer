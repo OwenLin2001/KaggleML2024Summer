{
 "cells": [
  {
   "cell_type": "code",
   "execution_count": 67,
   "metadata": {},
   "outputs": [],
   "source": [
    "import pandas as pd\n",
    "import matplotlib.pyplot as plt\n",
    "import numpy as np\n",
    "import os"
   ]
  },
  {
   "cell_type": "markdown",
   "metadata": {},
   "source": [
    "### Load the Data"
   ]
  },
  {
   "cell_type": "code",
   "execution_count": 68,
   "metadata": {},
   "outputs": [],
   "source": [
    "#relative path\n",
    "current_dir = os.getcwd()\n",
    "parent_dir = os.path.dirname(current_dir)\n",
    "data_path = os.path.join(parent_dir, 'Data', 'train.csv')\n",
    "test_path = os.path.join(parent_dir, 'Data', 'test.csv')\n",
    "\n",
    "# Load data and test data\n",
    "data = pd.read_csv(data_path, index_col = 0)\n",
    "test = pd.read_csv(test_path, index_col = 0)\n",
    "\n",
    "# Separate data into X and Y\n",
    "y = data.SalePrice\n",
    "X = data.drop(\"SalePrice\", axis = 1)"
   ]
  },
  {
   "cell_type": "markdown",
   "metadata": {},
   "source": [
    "### Examine All Features"
   ]
  },
  {
   "cell_type": "code",
   "execution_count": 69,
   "metadata": {},
   "outputs": [
    {
     "name": "stdout",
     "output_type": "stream",
     "text": [
      "The shape of X is (1460, 79)\n",
      "The shape of test set is (1459, 79)\n",
      "The columns of X are:\n",
      " Index(['MSSubClass', 'MSZoning', 'LotFrontage', 'LotArea', 'Street', 'Alley',\n",
      "       'LotShape', 'LandContour', 'Utilities', 'LotConfig', 'LandSlope',\n",
      "       'Neighborhood', 'Condition1', 'Condition2', 'BldgType', 'HouseStyle',\n",
      "       'OverallQual', 'OverallCond', 'YearBuilt', 'YearRemodAdd', 'RoofStyle',\n",
      "       'RoofMatl', 'Exterior1st', 'Exterior2nd', 'MasVnrType', 'MasVnrArea',\n",
      "       'ExterQual', 'ExterCond', 'Foundation', 'BsmtQual', 'BsmtCond',\n",
      "       'BsmtExposure', 'BsmtFinType1', 'BsmtFinSF1', 'BsmtFinType2',\n",
      "       'BsmtFinSF2', 'BsmtUnfSF', 'TotalBsmtSF', 'Heating', 'HeatingQC',\n",
      "       'CentralAir', 'Electrical', '1stFlrSF', '2ndFlrSF', 'LowQualFinSF',\n",
      "       'GrLivArea', 'BsmtFullBath', 'BsmtHalfBath', 'FullBath', 'HalfBath',\n",
      "       'BedroomAbvGr', 'KitchenAbvGr', 'KitchenQual', 'TotRmsAbvGrd',\n",
      "       'Functional', 'Fireplaces', 'FireplaceQu', 'GarageType', 'GarageYrBlt',\n",
      "       'GarageFinish', 'GarageCars', 'GarageArea', 'GarageQual', 'GarageCond',\n",
      "       'PavedDrive', 'WoodDeckSF', 'OpenPorchSF', 'EnclosedPorch', '3SsnPorch',\n",
      "       'ScreenPorch', 'PoolArea', 'PoolQC', 'Fence', 'MiscFeature', 'MiscVal',\n",
      "       'MoSold', 'YrSold', 'SaleType', 'SaleCondition'],\n",
      "      dtype='object')\n"
     ]
    }
   ],
   "source": [
    "print(\"The shape of X is\", X.shape)\n",
    "print(\"The shape of test set is\", test.shape)\n",
    "print(\"The columns of X are:\\n\", X.columns)"
   ]
  },
  {
   "cell_type": "code",
   "execution_count": 70,
   "metadata": {},
   "outputs": [
    {
     "name": "stdout",
     "output_type": "stream",
     "text": [
      "36 numerical variables\n",
      "43 categorical variables\n"
     ]
    }
   ],
   "source": [
    "num_name = X.select_dtypes(include=[np.number]).columns\n",
    "cat_name = X.select_dtypes(include=[np.object_]).columns\n",
    "print(num_name.shape[0], \"numerical variables\")\n",
    "print(cat_name.shape[0], \"categorical variables\")"
   ]
  },
  {
   "cell_type": "markdown",
   "metadata": {},
   "source": [
    "### Missing Value"
   ]
  },
  {
   "cell_type": "code",
   "execution_count": 71,
   "metadata": {},
   "outputs": [
    {
     "name": "stdout",
     "output_type": "stream",
     "text": [
      "LotFrontage      259\n",
      "Alley           1369\n",
      "MasVnrType       872\n",
      "MasVnrArea         8\n",
      "BsmtQual          37\n",
      "BsmtCond          37\n",
      "BsmtExposure      38\n",
      "BsmtFinType1      37\n",
      "BsmtFinType2      38\n",
      "Electrical         1\n",
      "FireplaceQu      690\n",
      "GarageType        81\n",
      "GarageYrBlt       81\n",
      "GarageFinish      81\n",
      "GarageQual        81\n",
      "GarageCond        81\n",
      "PoolQC          1453\n",
      "Fence           1179\n",
      "MiscFeature     1406\n",
      "dtype: int64\n",
      "\n"
     ]
    }
   ],
   "source": [
    "# Number of empty entries in each column\n",
    "# Data set\n",
    "col_missing = X.isnull().sum(axis = 0)\n",
    "col_missing = col_missing[col_missing > 0]\n",
    "print(col_missing)\n",
    "print()"
   ]
  },
  {
   "cell_type": "code",
   "execution_count": 72,
   "metadata": {},
   "outputs": [
    {
     "name": "stdout",
     "output_type": "stream",
     "text": [
      "MSZoning           4\n",
      "LotFrontage      227\n",
      "Alley           1352\n",
      "Utilities          2\n",
      "Exterior1st        1\n",
      "Exterior2nd        1\n",
      "MasVnrType       894\n",
      "MasVnrArea        15\n",
      "BsmtQual          44\n",
      "BsmtCond          45\n",
      "BsmtExposure      44\n",
      "BsmtFinType1      42\n",
      "BsmtFinSF1         1\n",
      "BsmtFinType2      42\n",
      "BsmtFinSF2         1\n",
      "BsmtUnfSF          1\n",
      "TotalBsmtSF        1\n",
      "BsmtFullBath       2\n",
      "BsmtHalfBath       2\n",
      "KitchenQual        1\n",
      "Functional         2\n",
      "FireplaceQu      730\n",
      "GarageType        76\n",
      "GarageYrBlt       78\n",
      "GarageFinish      78\n",
      "GarageCars         1\n",
      "GarageArea         1\n",
      "GarageQual        78\n",
      "GarageCond        78\n",
      "PoolQC          1456\n",
      "Fence           1169\n",
      "MiscFeature     1408\n",
      "SaleType           1\n",
      "dtype: int64\n"
     ]
    },
    {
     "data": {
      "text/plain": [
       "33"
      ]
     },
     "execution_count": 72,
     "metadata": {},
     "output_type": "execute_result"
    }
   ],
   "source": [
    "# Test set\n",
    "col_missing_test = test.isnull().sum(axis = 0)\n",
    "col_missing_test = col_missing_test[col_missing_test > 0]\n",
    "print(col_missing_test)\n",
    "len(col_missing_test)"
   ]
  },
  {
   "cell_type": "code",
   "execution_count": 73,
   "metadata": {},
   "outputs": [
    {
     "data": {
      "text/plain": [
       "1460"
      ]
     },
     "execution_count": 73,
     "metadata": {},
     "output_type": "execute_result"
    }
   ],
   "source": [
    "# All rows have missing entry in data set\n",
    "row_with_missing = [row for index, row in X.iterrows() if row.isnull().any()]\n",
    "len(row_with_missing)"
   ]
  },
  {
   "cell_type": "markdown",
   "metadata": {},
   "source": [
    "### Three Feature Sets"
   ]
  },
  {
   "cell_type": "markdown",
   "metadata": {},
   "source": [
    "#### Set 1: Numerical Variables without missing entries\n",
    "* Standard LR (mse: 22620)"
   ]
  },
  {
   "cell_type": "code",
   "execution_count": 74,
   "metadata": {},
   "outputs": [
    {
     "data": {
      "text/plain": [
       "25"
      ]
     },
     "execution_count": 74,
     "metadata": {},
     "output_type": "execute_result"
    }
   ],
   "source": [
    "num_no_missing = num_name.difference(col_missing.index).difference(col_missing_test.index)\n",
    "len(num_no_missing)"
   ]
  },
  {
   "cell_type": "code",
   "execution_count": 75,
   "metadata": {},
   "outputs": [
    {
     "data": {
      "text/plain": [
       "Index(['1stFlrSF', '2ndFlrSF', '3SsnPorch', 'BedroomAbvGr', 'EnclosedPorch',\n",
       "       'Fireplaces', 'FullBath', 'GrLivArea', 'HalfBath', 'KitchenAbvGr',\n",
       "       'LotArea', 'LowQualFinSF', 'MSSubClass', 'MiscVal', 'MoSold',\n",
       "       'OpenPorchSF', 'OverallCond', 'OverallQual', 'PoolArea', 'ScreenPorch',\n",
       "       'TotRmsAbvGrd', 'WoodDeckSF', 'YearBuilt', 'YearRemodAdd', 'YrSold'],\n",
       "      dtype='object')"
      ]
     },
     "execution_count": 75,
     "metadata": {},
     "output_type": "execute_result"
    }
   ],
   "source": [
    "num_no_missing"
   ]
  },
  {
   "cell_type": "markdown",
   "metadata": {},
   "source": [
    "#### Set 2: All Numerical Variables\n",
    "* Impute Mean (mse: 21098)\n",
    "* Impute 0 (mse: 21037)\n",
    "* Impute 0 + log transformation (mse: 18236)"
   ]
  },
  {
   "cell_type": "code",
   "execution_count": 76,
   "metadata": {},
   "outputs": [
    {
     "data": {
      "text/plain": [
       "36"
      ]
     },
     "execution_count": 76,
     "metadata": {},
     "output_type": "execute_result"
    }
   ],
   "source": [
    "len(num_name)"
   ]
  },
  {
   "cell_type": "markdown",
   "metadata": {},
   "source": [
    "#### Set 3: Numerical and Categorical Variables without missing entries\n",
    "* One hot encoding (mae: 17034)"
   ]
  },
  {
   "cell_type": "code",
   "execution_count": 77,
   "metadata": {},
   "outputs": [
    {
     "data": {
      "text/plain": [
       "45"
      ]
     },
     "execution_count": 77,
     "metadata": {},
     "output_type": "execute_result"
    }
   ],
   "source": [
    "col_no_missing = X.columns.difference(col_missing.index).difference(col_missing_test.index)\n",
    "len(col_no_missing)"
   ]
  },
  {
   "cell_type": "code",
   "execution_count": 78,
   "metadata": {},
   "outputs": [
    {
     "name": "stdout",
     "output_type": "stream",
     "text": [
      "20\n"
     ]
    }
   ],
   "source": [
    "# Numerical variables are good to go\n",
    "# Try One Hot Encoding and Ordinal Encoding For Categoricals\n",
    "col_no_missing.difference(num_name)\n",
    "print(len(col_no_missing.difference(num_name)))"
   ]
  },
  {
   "cell_type": "code",
   "execution_count": 79,
   "metadata": {},
   "outputs": [],
   "source": [
    "# One Hot Encoding\n",
    "from sklearn.preprocessing import OneHotEncoder\n",
    "ohe = OneHotEncoder(drop=\"first\", sparse_output=False) # Handle unknown by default is error\n",
    "\n",
    "# One Hot Encoding Variables (14 out of 20)\n",
    "ohe_var = [\"BldgType\", \"CentralAir\", \"Condition1\", \"Condition2\", \"Foundation\", \n",
    "                                             \"Heating\", \"HouseStyle\", \"LandContour\", \"LotConfig\", \"Neighborhood\", \n",
    "                                             \"RoofMatl\", \"RoofStyle\", \"SaleCondition\", \"Street\"]\n",
    "\n",
    "# One Hot Encoding Matrix\n",
    "ohe_matrix = pd.DataFrame(ohe.fit_transform(X[ohe_var]))\n",
    "ohe_matrix_test = pd.DataFrame(ohe.transform(test[ohe_var]))\n",
    "\n",
    "# Put index and column name back\n",
    "ohe_matrix.index = X.index\n",
    "ohe_matrix_test.index = test.index\n",
    "\n",
    "ohe_columns = ohe.get_feature_names_out(ohe_var).astype(str)\n",
    "ohe_matrix.columns = ohe_columns\n",
    "ohe_matrix_test.columns = ohe_columns\n",
    "\n",
    "# Concat back to \"data\" and test\n",
    "data = pd.concat([data, ohe_matrix], axis = 1)\n",
    "\n",
    "test = pd.concat([test, ohe_matrix_test], axis = 1)\n",
    "\n",
    "# clean_feat = list(col_no_missing.difference(ohe_var).difference(ord_var)) + list(ohe_columns)"
   ]
  },
  {
   "cell_type": "code",
   "execution_count": 80,
   "metadata": {},
   "outputs": [],
   "source": [
    "# Ordinal Encoding\n",
    "from sklearn.preprocessing import OrdinalEncoder\n",
    "\n",
    "# One Hot Encoding Variables (6 out of 20)\n",
    "ord_var = [\"ExterCond\", \"ExterQual\", \"HeatingQC\", \"LandSlope\", \"LotShape\", \"PavedDrive\"] \n",
    "categories = [['Po', 'Fa', 'TA', 'Gd', 'Ex'], \n",
    "              ['Po', 'Fa', 'TA', 'Gd', 'Ex'], \n",
    "              ['Po', 'Fa', 'TA', 'Gd', 'Ex'],\n",
    "              [\"Sev\", \"Mod\", \"Gtl\"],\n",
    "              [\"IR3\", \"IR2\", \"IR1\", \"Reg\"],\n",
    "              [\"N\", \"P\", \"Y\"]]\n",
    "ord_encoder = OrdinalEncoder(categories=categories)\n",
    "\n",
    "# One Hot Encoding Matrix\n",
    "ord_matrix = pd.DataFrame(ord_encoder.fit_transform(X[ord_var]))\n",
    "ord_matrix_test = pd.DataFrame(ord_encoder.transform(test[ord_var]))\n",
    "\n",
    "# Put index and column name back\n",
    "ord_matrix.index = X.index\n",
    "ord_matrix_test.index = test.index\n",
    "\n",
    "ord_matrix.columns = ord_var\n",
    "ord_matrix_test.columns = ord_var\n",
    "\n",
    "# replace \"data\" and test with ordinal features\n",
    "data[ord_var] = ord_matrix\n",
    "test[ord_var] = ord_matrix_test"
   ]
  },
  {
   "cell_type": "markdown",
   "metadata": {},
   "source": [
    "#### Set 4: Final Data"
   ]
  },
  {
   "cell_type": "code",
   "execution_count": 81,
   "metadata": {},
   "outputs": [],
   "source": [
    "# TBD: address some missing values, ordinal encoding etc. "
   ]
  },
  {
   "cell_type": "markdown",
   "metadata": {},
   "source": [
    "### Save Clean Data"
   ]
  },
  {
   "cell_type": "code",
   "execution_count": 64,
   "metadata": {},
   "outputs": [],
   "source": [
    "clean_data_path = os.path.join(parent_dir, 'Data', 'train_clean.csv')\n",
    "clean_test_path = os.path.join(parent_dir, 'Data', 'test_clean.csv')\n",
    "\n",
    "clean_feat = list(col_no_missing.difference(ohe_var)) + list(ohe_columns) + [y.name]\n",
    "clean_feat_test = list(col_no_missing.difference(ohe_var)) + list(ohe_columns)\n",
    "data[clean_feat].to_csv(clean_data_path)\n",
    "test[clean_feat_test].to_csv(clean_test_path)"
   ]
  }
 ],
 "metadata": {
  "kernelspec": {
   "display_name": "Python 3",
   "language": "python",
   "name": "python3"
  },
  "language_info": {
   "codemirror_mode": {
    "name": "ipython",
    "version": 3
   },
   "file_extension": ".py",
   "mimetype": "text/x-python",
   "name": "python",
   "nbconvert_exporter": "python",
   "pygments_lexer": "ipython3",
   "version": "3.12.4"
  }
 },
 "nbformat": 4,
 "nbformat_minor": 2
}
